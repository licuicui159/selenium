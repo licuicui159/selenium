{
 "cells": [
  {
   "cell_type": "code",
   "execution_count": 6,
   "metadata": {},
   "outputs": [
    {
     "name": "stdout",
     "output_type": "stream",
     "text": [
      "Series([], dtype: float64)\n"
     ]
    }
   ],
   "source": [
    "import pandas as pd\n",
    "import numpy as np\n",
    "\n",
    "# 创建一个空的系列\n",
    "s = pd.Series()\n",
    "# 从ndarray创建一个系列\n",
    "data = np.array(['a','b','c','d'])\n",
    "print(s)"
   ]
  },
  {
   "cell_type": "code",
   "execution_count": 7,
   "metadata": {},
   "outputs": [
    {
     "name": "stdout",
     "output_type": "stream",
     "text": [
      "0    a\n",
      "1    b\n",
      "2    c\n",
      "3    d\n",
      "dtype: object\n",
      "100    a\n",
      "101    b\n",
      "102    c\n",
      "103    d\n",
      "dtype: object\n"
     ]
    }
   ],
   "source": [
    "s = pd.Series(data)\n",
    "print(s)\n",
    "s = pd.Series(data,index=[100,101,102,103])\n",
    "print(s)"
   ]
  },
  {
   "cell_type": "code",
   "execution_count": 8,
   "metadata": {},
   "outputs": [
    {
     "name": "stdout",
     "output_type": "stream",
     "text": [
      "0    5\n",
      "1    5\n",
      "2    5\n",
      "3    5\n",
      "dtype: int64\n"
     ]
    }
   ],
   "source": [
    "# 从字典创建一个系列\t\n",
    "data = {'a' : 0., 'b' : 1., 'c' : 2.}\n",
    "s = pd.Series(data)\n",
    "# 从标量创建一个系列\n",
    "s = pd.Series(5, index=[0, 1, 2, 3])\n",
    "print(s)"
   ]
  },
  {
   "cell_type": "code",
   "execution_count": 12,
   "metadata": {},
   "outputs": [
    {
     "name": "stdout",
     "output_type": "stream",
     "text": [
      "1\n",
      "a    1\n",
      "b    2\n",
      "c    3\n",
      "dtype: int64\n",
      "c    3\n",
      "d    4\n",
      "e    5\n",
      "dtype: int64\n",
      "1\n",
      "a    1\n",
      "c    3\n",
      "d    4\n",
      "dtype: int64\n"
     ]
    }
   ],
   "source": [
    "# 使用索引检索元素\n",
    "s = pd.Series([1,2,3,4,5],index = ['a','b','c','d','e'])\n",
    "print(s[0], s[:3], s[-3:], sep='\\n')\n",
    "# 使用标签检索数据\n",
    "print(s['a'], s[['a','c','d']], sep='\\n')"
   ]
  },
  {
   "cell_type": "code",
   "execution_count": 13,
   "metadata": {},
   "outputs": [
    {
     "name": "stdout",
     "output_type": "stream",
     "text": [
      "0   2011-01-01 00:00:00\n",
      "1   2011-02-01 00:00:00\n",
      "2   2011-03-01 00:00:00\n",
      "3   2011-04-01 00:00:00\n",
      "4   2011-05-01 01:01:01\n",
      "5   2011-06-01 00:00:00\n",
      "dtype: datetime64[ns] datetime64[ns] <class 'pandas.core.series.Series'>\n",
      "0    14975\n",
      "1    15006\n",
      "2    15034\n",
      "3    15065\n",
      "4    15095\n",
      "5    15126\n",
      "dtype: int64\n"
     ]
    }
   ],
   "source": [
    "# pandas识别的日期字符串格式\n",
    "dates = pd.Series(['2011', '2011-02', '2011-03-01', '2011/04/01', \n",
    "                   '2011/05/01 01:01:01', '01 Jun 2011'])\n",
    "# to_datetime() 转换日期数据类型\n",
    "dates = pd.to_datetime(dates)\n",
    "print(dates, dates.dtype, type(dates))\n",
    "# datetime类型数据支持日期运算\n",
    "delta = dates - pd.to_datetime('1970-01-01')\n",
    "# 获取天数数值\n",
    "print(delta.dt.days)"
   ]
  },
  {
   "cell_type": "code",
   "execution_count": 16,
   "metadata": {},
   "outputs": [
    {
     "name": "stdout",
     "output_type": "stream",
     "text": [
      "DatetimeIndex(['2019-08-21', '2019-08-22', '2019-08-23', '2019-08-24',\n",
      "               '2019-08-25'],\n",
      "              dtype='datetime64[ns]', freq='D')\n",
      "DatetimeIndex(['2019-08-31', '2019-09-30', '2019-10-31', '2019-11-30',\n",
      "               '2019-12-31'],\n",
      "              dtype='datetime64[ns]', freq='M')\n",
      "DatetimeIndex(['2017-11-01', '2017-11-02', '2017-11-03', '2017-11-04',\n",
      "               '2017-11-05'],\n",
      "              dtype='datetime64[ns]', freq='D')\n",
      "DatetimeIndex(['2011-11-03', '2011-11-04', '2011-11-07', '2011-11-08',\n",
      "               '2011-11-09'],\n",
      "              dtype='datetime64[ns]', freq='B')\n"
     ]
    }
   ],
   "source": [
    "# 以日为频率\n",
    "datelist = pd.date_range('2019/08/21', periods=5)\n",
    "print(datelist)\n",
    "# 以月为频率\n",
    "datelist = pd.date_range('2019/08/21', periods=5,freq='M')\n",
    "print(datelist)\n",
    "# 构建某个区间的时间序列\n",
    "start = pd.datetime(2017, 11, 1)\n",
    "end = pd.datetime(2017, 11, 5)\n",
    "dates = pd.date_range(start, end)\n",
    "print(dates)\n",
    "datelist = pd.bdate_range('2011/11/03', periods=5)\n",
    "print(datelist)"
   ]
  },
  {
   "cell_type": "code",
   "execution_count": 17,
   "metadata": {},
   "outputs": [
    {
     "name": "stdout",
     "output_type": "stream",
     "text": [
      "Empty DataFrame\n",
      "Columns: []\n",
      "Index: []\n",
      "   0\n",
      "0  1\n",
      "1  2\n",
      "2  3\n",
      "3  4\n",
      "4  5\n",
      "     Name  Age\n",
      "0    Alex   10\n",
      "1     Bob   12\n",
      "2  Clarke   13\n",
      "     Name   Age\n",
      "0    Alex  10.0\n",
      "1     Bob  12.0\n",
      "2  Clarke  13.0\n",
      "   a   b     c\n",
      "0  1   2   NaN\n",
      "1  5  10  20.0\n",
      "     Name  Age\n",
      "s1    Tom   28\n",
      "s2   Jack   34\n",
      "s3  Steve   29\n",
      "s4  Ricky   42\n",
      "   one  two\n",
      "a  1.0    1\n",
      "b  2.0    2\n",
      "c  3.0    3\n",
      "d  NaN    4\n"
     ]
    }
   ],
   "source": [
    "# 创建一个空的DataFrame\n",
    "df = pd.DataFrame()\n",
    "print(df)\n",
    "\n",
    "# 从列表创建DataFrame\n",
    "data = [1,2,3,4,5]\n",
    "df = pd.DataFrame(data)\n",
    "print(df)\n",
    "data = [['Alex',10],['Bob',12],['Clarke',13]]\n",
    "df = pd.DataFrame(data,columns=['Name','Age'])\n",
    "print(df)\n",
    "data = [['Alex',10],['Bob',12],['Clarke',13]]\n",
    "df = pd.DataFrame(data,columns=['Name','Age'],dtype=float)\n",
    "print(df)\n",
    "data = [{'a': 1, 'b': 2},{'a': 5, 'b': 10, 'c': 20}]\n",
    "df = pd.DataFrame(data)\n",
    "print(df)\n",
    "\n",
    "# 从字典来创建DataFrame\n",
    "data = {'Name':['Tom', 'Jack', 'Steve', 'Ricky'],'Age':[28,34,29,42]}\n",
    "df = pd.DataFrame(data, index=['s1','s2','s3','s4'])\n",
    "print(df)\n",
    "data = {'one' : pd.Series([1, 2, 3], index=['a', 'b', 'c']),\n",
    "        'two' : pd.Series([1, 2, 3, 4], index=['a', 'b', 'c', 'd'])}\n",
    "df = pd.DataFrame(data)\n",
    "print(df)"
   ]
  },
  {
   "cell_type": "code",
   "execution_count": 18,
   "metadata": {},
   "outputs": [
    {
     "name": "stdout",
     "output_type": "stream",
     "text": [
      "a    1.0\n",
      "b    2.0\n",
      "c    3.0\n",
      "d    NaN\n",
      "Name: one, dtype: float64\n",
      "   one  two\n",
      "a  1.0    1\n",
      "b  2.0    2\n",
      "c  3.0    3\n",
      "d  NaN    4\n"
     ]
    }
   ],
   "source": [
    "import pandas as pd\n",
    "\n",
    "d = {'one' : pd.Series([1, 2, 3], index=['a', 'b', 'c']),\n",
    "     'two' : pd.Series([1, 2, 3, 4], index=['a', 'b', 'c', 'd'])}\n",
    "\n",
    "df = pd.DataFrame(d)\n",
    "print(df['one'])\n",
    "print(df[['one', 'two']])"
   ]
  },
  {
   "cell_type": "code",
   "execution_count": 19,
   "metadata": {},
   "outputs": [
    {
     "name": "stdout",
     "output_type": "stream",
     "text": [
      "     Name  Age  score\n",
      "s1    Tom   28     90\n",
      "s2   Jack   34     80\n",
      "s3  Steve   29     70\n",
      "s4  Ricky   42     60\n"
     ]
    }
   ],
   "source": [
    "import pandas as pd\n",
    "\n",
    "data = {'Name':['Tom', 'Jack', 'Steve', 'Ricky'],'Age':[28,34,29,42]}\n",
    "df = pd.DataFrame(data, index=['s1','s2','s3','s4'])\n",
    "df['score']=pd.Series([90, 80, 70, 60], index=['s1','s2','s3','s4'])\n",
    "print(df)"
   ]
  },
  {
   "cell_type": "code",
   "execution_count": 20,
   "metadata": {},
   "outputs": [
    {
     "name": "stdout",
     "output_type": "stream",
     "text": [
      "dataframe is:\n",
      "   one  two  three\n",
      "a  1.0    1   10.0\n",
      "b  2.0    2   20.0\n",
      "c  3.0    3   30.0\n",
      "d  NaN    4    NaN\n",
      "   two  three\n",
      "a    1   10.0\n",
      "b    2   20.0\n",
      "c    3   30.0\n",
      "d    4    NaN\n",
      "   three\n",
      "a   10.0\n",
      "b   20.0\n",
      "c   30.0\n",
      "d    NaN\n"
     ]
    }
   ],
   "source": [
    "import pandas as pd\n",
    "\n",
    "d = {'one' : pd.Series([1, 2, 3], index=['a', 'b', 'c']), \n",
    "     'two' : pd.Series([1, 2, 3, 4], index=['a', 'b', 'c', 'd']), \n",
    "     'three' : pd.Series([10, 20, 30], index=['a', 'b', 'c'])}\n",
    "df = pd.DataFrame(d)\n",
    "print(\"dataframe is:\")\n",
    "print(df)\n",
    "\n",
    "# 删除一列： one\n",
    "del(df['one'])\n",
    "print(df)\n",
    "\n",
    "#调用pop方法删除一列\n",
    "df.pop('two')\n",
    "print(df)"
   ]
  },
  {
   "cell_type": "code",
   "execution_count": 21,
   "metadata": {},
   "outputs": [
    {
     "name": "stdout",
     "output_type": "stream",
     "text": [
      "   one  two\n",
      "c  3.0    3\n",
      "d  NaN    4\n"
     ]
    }
   ],
   "source": [
    "import pandas as pd\n",
    "\n",
    "d = {'one' : pd.Series([1, 2, 3], index=['a', 'b', 'c']), \n",
    "    'two' : pd.Series([1, 2, 3, 4], index=['a', 'b', 'c', 'd'])}\n",
    "\n",
    "df = pd.DataFrame(d)\n",
    "print(df[2:4])"
   ]
  },
  {
   "cell_type": "code",
   "execution_count": 22,
   "metadata": {},
   "outputs": [
    {
     "name": "stdout",
     "output_type": "stream",
     "text": [
      "one    2.0\n",
      "two    2.0\n",
      "Name: b, dtype: float64\n",
      "   one  two\n",
      "a  1.0    1\n",
      "b  2.0    2\n"
     ]
    }
   ],
   "source": [
    "import pandas as pd\n",
    "\n",
    "d = {'one' : pd.Series([1, 2, 3], index=['a', 'b', 'c']), \n",
    "     'two' : pd.Series([1, 2, 3, 4], index=['a', 'b', 'c', 'd'])}\n",
    "\n",
    "df = pd.DataFrame(d)\n",
    "print(df.loc['b'])\n",
    "print(df.loc[['a', 'b']])"
   ]
  },
  {
   "cell_type": "code",
   "execution_count": 23,
   "metadata": {},
   "outputs": [
    {
     "name": "stdout",
     "output_type": "stream",
     "text": [
      "one    3.0\n",
      "two    3.0\n",
      "Name: c, dtype: float64\n",
      "   one  two\n",
      "c  3.0    3\n",
      "d  NaN    4\n"
     ]
    }
   ],
   "source": [
    "import pandas as pd\n",
    "\n",
    "d = {'one' : pd.Series([1, 2, 3], index=['a', 'b', 'c']),\n",
    "     'two' : pd.Series([1, 2, 3, 4], index=['a', 'b', 'c', 'd'])}\n",
    "\n",
    "df = pd.DataFrame(d)\n",
    "print(df.iloc[2])\n",
    "print(df.iloc[[2, 3]])"
   ]
  },
  {
   "cell_type": "code",
   "execution_count": 24,
   "metadata": {},
   "outputs": [
    {
     "name": "stdout",
     "output_type": "stream",
     "text": [
      "  Name  Age\n",
      "0   zs   12\n",
      "1   ls    4\n",
      "0   ww   16\n",
      "1   zl    8\n"
     ]
    }
   ],
   "source": [
    "import pandas as pd\n",
    "\n",
    "df = pd.DataFrame([['zs', 12], ['ls', 4]], columns = ['Name','Age'])\n",
    "df2 = pd.DataFrame([['ww', 16], ['zl', 8]], columns = ['Name','Age'])\n",
    "\n",
    "df = df.append(df2)\n",
    "print(df)"
   ]
  },
  {
   "cell_type": "code",
   "execution_count": 25,
   "metadata": {},
   "outputs": [
    {
     "name": "stdout",
     "output_type": "stream",
     "text": [
      "  Name  Age\n",
      "1   ls    4\n",
      "1   zl    8\n"
     ]
    }
   ],
   "source": [
    "import pandas as pd\n",
    "\n",
    "df = pd.DataFrame([['zs', 12], ['ls', 4]], columns = ['Name','Age'])\n",
    "df2 = pd.DataFrame([['ww', 16], ['zl', 8]], columns = ['Name','Age'])\n",
    "df = df.append(df2)\n",
    "# 删除index为0的行\n",
    "df = df.drop(0)\n",
    "print(df)"
   ]
  },
  {
   "cell_type": "code",
   "execution_count": 26,
   "metadata": {},
   "outputs": [
    {
     "name": "stdout",
     "output_type": "stream",
     "text": [
      "  Name  Age\n",
      "0  Tom   12\n",
      "1   ls    4\n",
      "0  Tom   16\n",
      "1   zl    8\n"
     ]
    },
    {
     "name": "stderr",
     "output_type": "stream",
     "text": [
      "c:\\users\\administrator\\appdata\\local\\programs\\python\\python36\\lib\\site-packages\\ipykernel_launcher.py:6: SettingWithCopyWarning: \n",
      "A value is trying to be set on a copy of a slice from a DataFrame\n",
      "\n",
      "See the caveats in the documentation: http://pandas.pydata.org/pandas-docs/stable/indexing.html#indexing-view-versus-copy\n",
      "  \n"
     ]
    }
   ],
   "source": [
    "import pandas as pd\n",
    "\n",
    "df = pd.DataFrame([['zs', 12], ['ls', 4]], columns = ['Name','Age'])\n",
    "df2 = pd.DataFrame([['ww', 16], ['zl', 8]], columns = ['Name','Age'])\n",
    "df = df.append(df2)\n",
    "df['Name'][0] = 'Tom'\n",
    "print(df)"
   ]
  },
  {
   "cell_type": "code",
   "execution_count": 27,
   "metadata": {},
   "outputs": [
    {
     "name": "stdout",
     "output_type": "stream",
     "text": [
      "      Name  Age  Rating\n",
      "0      Tom   25    4.23\n",
      "1    James   26    3.24\n",
      "2    Ricky   25    3.98\n",
      "3      Vin   23    2.56\n",
      "4    Steve   30    3.20\n",
      "5    Minsu   29    4.60\n",
      "6     Jack   23    3.80\n",
      "7      Lee   34    3.78\n",
      "8    David   40    2.98\n",
      "9   Gasper   30    4.80\n",
      "10  Betina   51    4.10\n",
      "11  Andres   46    3.65\n",
      "Name      TomJamesRickyVinSteveMinsuJackLeeDavidGasperBe...\n",
      "Age                                                     382\n",
      "Rating                                                44.92\n",
      "dtype: object\n",
      "0     29.23\n",
      "1     29.24\n",
      "2     28.98\n",
      "3     25.56\n",
      "4     33.20\n",
      "5     33.60\n",
      "6     26.80\n",
      "7     37.78\n",
      "8     42.98\n",
      "9     34.80\n",
      "10    55.10\n",
      "11    49.65\n",
      "dtype: float64\n",
      "Age       31.833333\n",
      "Rating     3.743333\n",
      "dtype: float64\n",
      "0     14.615\n",
      "1     14.620\n",
      "2     14.490\n",
      "3     12.780\n",
      "4     16.600\n",
      "5     16.800\n",
      "6     13.400\n",
      "7     18.890\n",
      "8     21.490\n",
      "9     17.400\n",
      "10    27.550\n",
      "11    24.825\n",
      "dtype: float64\n"
     ]
    }
   ],
   "source": [
    "import pandas as pd\n",
    "import numpy as np\n",
    "\n",
    "# 创建DF\n",
    "d = {'Name':pd.Series(['Tom','James','Ricky','Vin','Steve','Minsu','Jack',\n",
    "   'Lee','David','Gasper','Betina','Andres']),\n",
    "   'Age':pd.Series([25,26,25,23,30,29,23,34,40,30,51,46]),\n",
    "   'Rating':pd.Series([4.23,3.24,3.98,2.56,3.20,4.6,3.8,3.78,2.98,4.80,4.10,3.65])}\n",
    "\n",
    "df = pd.DataFrame(d)\n",
    "print(df)\n",
    "# 测试描述性统计函数\n",
    "print(df.sum())\n",
    "print(df.sum(1))\n",
    "print(df.mean())\n",
    "print(df.mean(1))"
   ]
  },
  {
   "cell_type": "code",
   "execution_count": 28,
   "metadata": {},
   "outputs": [
    {
     "name": "stdout",
     "output_type": "stream",
     "text": [
      "             Age     Rating\n",
      "count  12.000000  12.000000\n",
      "mean   31.833333   3.743333\n",
      "std     9.232682   0.661628\n",
      "min    23.000000   2.560000\n",
      "25%    25.000000   3.230000\n",
      "50%    29.500000   3.790000\n",
      "75%    35.500000   4.132500\n",
      "max    51.000000   4.800000\n",
      "        Name\n",
      "count     12\n",
      "unique    12\n",
      "top     Jack\n",
      "freq       1\n",
      "             Age     Rating\n",
      "count  12.000000  12.000000\n",
      "mean   31.833333   3.743333\n",
      "std     9.232682   0.661628\n",
      "min    23.000000   2.560000\n",
      "25%    25.000000   3.230000\n",
      "50%    29.500000   3.790000\n",
      "75%    35.500000   4.132500\n",
      "max    51.000000   4.800000\n"
     ]
    }
   ],
   "source": [
    "import pandas as pd\n",
    "import numpy as np\n",
    "\n",
    "#Create a Dictionary of series\n",
    "d = {'Name':pd.Series(['Tom','James','Ricky','Vin','Steve','Minsu','Jack',\n",
    "   'Lee','David','Gasper','Betina','Andres']),\n",
    "   'Age':pd.Series([25,26,25,23,30,29,23,34,40,30,51,46]),\n",
    "   'Rating':pd.Series([4.23,3.24,3.98,2.56,3.20,4.6,3.8,3.78,2.98,4.80,4.10,3.65])}\n",
    "\n",
    "#Create a DataFrame\n",
    "df = pd.DataFrame(d)\n",
    "print(df.describe())\n",
    "print(df.describe(include=['object']))\n",
    "print(df.describe(include=['number']))"
   ]
  },
  {
   "cell_type": "code",
   "execution_count": 29,
   "metadata": {},
   "outputs": [
    {
     "name": "stdout",
     "output_type": "stream",
     "text": [
      "       col2      col1\n",
      "1  0.189627  0.984826\n",
      "4 -0.604222 -0.802171\n",
      "6  0.366901 -1.843041\n",
      "2 -0.882594  0.186304\n",
      "3  0.205283 -1.285262\n",
      "5 -0.568307 -0.677979\n",
      "9 -0.003646 -0.994954\n",
      "8  1.013553 -0.129714\n",
      "0 -1.349591  0.927598\n",
      "7  0.362359 -0.589974\n"
     ]
    }
   ],
   "source": [
    "import pandas as pd\n",
    "import numpy as np\n",
    "\n",
    "unsorted_df=pd.DataFrame(np.random.randn(10,2),\n",
    "                         index=[1,4,6,2,3,5,9,8,0,7],columns=['col2','col1'])\n",
    "print(unsorted_df)"
   ]
  },
  {
   "cell_type": "code",
   "execution_count": 30,
   "metadata": {},
   "outputs": [
    {
     "name": "stdout",
     "output_type": "stream",
     "text": [
      "      Name  Age  Rating\n",
      "0      Tom   25    4.23\n",
      "1    James   26    3.24\n",
      "2    Ricky   25    3.98\n",
      "3      Vin   23    2.56\n",
      "4    Steve   30    3.20\n",
      "5    Minsu   29    4.60\n",
      "6     Jack   23    3.80\n",
      "7      Lee   34    3.78\n",
      "8    David   40    2.98\n",
      "9   Gasper   30    4.80\n",
      "10  Betina   51    4.10\n",
      "11  Andres   46    3.65\n",
      "      Name  Age  Rating\n",
      "11  Andres   46    3.65\n",
      "10  Betina   51    4.10\n",
      "9   Gasper   30    4.80\n",
      "8    David   40    2.98\n",
      "7      Lee   34    3.78\n",
      "6     Jack   23    3.80\n",
      "5    Minsu   29    4.60\n",
      "4    Steve   30    3.20\n",
      "3      Vin   23    2.56\n",
      "2    Ricky   25    3.98\n",
      "1    James   26    3.24\n",
      "0      Tom   25    4.23\n"
     ]
    }
   ],
   "source": [
    "import pandas as pd\n",
    "import numpy as np\n",
    "\n",
    "d = {'Name':pd.Series(['Tom','James','Ricky','Vin','Steve','Minsu','Jack',\n",
    "   'Lee','David','Gasper','Betina','Andres']),\n",
    "   'Age':pd.Series([25,26,25,23,30,29,23,34,40,30,51,46]),\n",
    "   'Rating':pd.Series([4.23,3.24,3.98,2.56,3.20,4.6,3.8,3.78,2.98,4.80,4.10,3.65])}\n",
    "unsorted_df = pd.DataFrame(d)\n",
    "# 按照行标进行排序\n",
    "sorted_df=unsorted_df.sort_index()\n",
    "print (sorted_df)\n",
    "# 控制排序顺序\n",
    "sorted_df = unsorted_df.sort_index(ascending=False)\n",
    "print (sorted_df)"
   ]
  },
  {
   "cell_type": "code",
   "execution_count": 31,
   "metadata": {},
   "outputs": [
    {
     "name": "stdout",
     "output_type": "stream",
     "text": [
      "    Age    Name  Rating\n",
      "0    25     Tom    4.23\n",
      "1    26   James    3.24\n",
      "2    25   Ricky    3.98\n",
      "3    23     Vin    2.56\n",
      "4    30   Steve    3.20\n",
      "5    29   Minsu    4.60\n",
      "6    23    Jack    3.80\n",
      "7    34     Lee    3.78\n",
      "8    40   David    2.98\n",
      "9    30  Gasper    4.80\n",
      "10   51  Betina    4.10\n",
      "11   46  Andres    3.65\n"
     ]
    }
   ],
   "source": [
    "import numpy as np\n",
    "\n",
    "d = {'Name':pd.Series(['Tom','James','Ricky','Vin','Steve','Minsu','Jack',\n",
    "   'Lee','David','Gasper','Betina','Andres']),\n",
    "   'Age':pd.Series([25,26,25,23,30,29,23,34,40,30,51,46]),\n",
    "   'Rating':pd.Series([4.23,3.24,3.98,2.56,3.20,4.6,3.8,3.78,2.98,4.80,4.10,3.65])}\n",
    "unsorted_df = pd.DataFrame(d)\n",
    "# 按照列标签进行排序\n",
    "sorted_df=unsorted_df.sort_index(axis=1)\n",
    "print (sorted_df)"
   ]
  },
  {
   "cell_type": "code",
   "execution_count": 32,
   "metadata": {},
   "outputs": [
    {
     "name": "stdout",
     "output_type": "stream",
     "text": [
      "      Team  Rank  Year  Points\n",
      "0   Riders     1  2014     876\n",
      "1   Riders     2  2015     789\n",
      "2   Devils     2  2014     863\n",
      "3   Devils     3  2015     673\n",
      "4    Kings     3  2014     741\n",
      "5    kings     4  2015     812\n",
      "6    Kings     1  2016     756\n",
      "7    Kings     1  2017     788\n",
      "8   Riders     2  2016     694\n",
      "9   Royals     4  2014     701\n",
      "10  Royals     1  2015     804\n",
      "11  Riders     2  2017     690\n"
     ]
    }
   ],
   "source": [
    "import pandas as pd\n",
    "\n",
    "ipl_data = {'Team': ['Riders', 'Riders', 'Devils', 'Devils', 'Kings',\n",
    "         'kings', 'Kings', 'Kings', 'Riders', 'Royals', 'Royals', 'Riders'],\n",
    "         'Rank': [1, 2, 2, 3, 3,4 ,1 ,1,2 , 4,1,2],\n",
    "         'Year': [2014,2015,2014,2015,2014,2015,2016,2017,2016,2014,2015,2017],\n",
    "         'Points':[876,789,863,673,741,812,756,788,694,701,804,690]}\n",
    "df = pd.DataFrame(ipl_data)\n",
    "print(df)"
   ]
  },
  {
   "cell_type": "code",
   "execution_count": 33,
   "metadata": {},
   "outputs": [
    {
     "name": "stdout",
     "output_type": "stream",
     "text": [
      "<pandas.core.groupby.groupby.DataFrameGroupBy object at 0x0000021678BA04E0>\n",
      "{2014: Int64Index([0, 2, 4, 9], dtype='int64'), 2015: Int64Index([1, 3, 5, 10], dtype='int64'), 2016: Int64Index([6, 8], dtype='int64'), 2017: Int64Index([7, 11], dtype='int64')}\n"
     ]
    }
   ],
   "source": [
    "# 按照年份Year字段分组\n",
    "print (df.groupby('Year'))\n",
    "# 查看分组结果\n",
    "print (df.groupby('Year').groups)"
   ]
  },
  {
   "cell_type": "code",
   "execution_count": 36,
   "metadata": {},
   "outputs": [
    {
     "name": "stdout",
     "output_type": "stream",
     "text": [
      "2014\n",
      "     Team  Rank  Year  Points\n",
      "0  Riders     1  2014     876\n",
      "2  Devils     2  2014     863\n",
      "4   Kings     3  2014     741\n",
      "9  Royals     4  2014     701\n",
      "2015\n",
      "      Team  Rank  Year  Points\n",
      "1   Riders     2  2015     789\n",
      "3   Devils     3  2015     673\n",
      "5    kings     4  2015     812\n",
      "10  Royals     1  2015     804\n",
      "2016\n",
      "     Team  Rank  Year  Points\n",
      "6   Kings     1  2016     756\n",
      "8  Riders     2  2016     694\n",
      "2017\n",
      "      Team  Rank  Year  Points\n",
      "7    Kings     1  2017     788\n",
      "11  Riders     2  2017     690\n"
     ]
    }
   ],
   "source": [
    "grouped = df.groupby('Year')\n",
    "# 遍历每个分组\n",
    "for year,group in grouped:\n",
    "    print (year)\n",
    "    print (group)"
   ]
  },
  {
   "cell_type": "code",
   "execution_count": 37,
   "metadata": {},
   "outputs": [
    {
     "name": "stdout",
     "output_type": "stream",
     "text": [
      "     Team  Rank  Year  Points\n",
      "0  Riders     1  2014     876\n",
      "2  Devils     2  2014     863\n",
      "4   Kings     3  2014     741\n",
      "9  Royals     4  2014     701\n"
     ]
    }
   ],
   "source": [
    "grouped = df.groupby('Year')\n",
    "print (grouped.get_group(2014))"
   ]
  },
  {
   "cell_type": "code",
   "execution_count": 38,
   "metadata": {},
   "outputs": [
    {
     "name": "stdout",
     "output_type": "stream",
     "text": [
      "Year\n",
      "2014    795.25\n",
      "2015    769.50\n",
      "2016    725.00\n",
      "2017    739.00\n",
      "Name: Points, dtype: float64\n",
      "       sum    mean        std\n",
      "Year                         \n",
      "2014  3181  795.25  87.439026\n",
      "2015  3078  769.50  65.035888\n",
      "2016  1450  725.00  43.840620\n",
      "2017  1478  739.00  69.296465\n"
     ]
    }
   ],
   "source": [
    "# 聚合每一年的平均的分\n",
    "grouped = df.groupby('Year')\n",
    "print (grouped['Points'].agg(np.mean))\n",
    "# 聚合每一年的分数之和、平均分、标准差\n",
    "grouped = df.groupby('Year')\n",
    "agg = grouped['Points'].agg([np.sum, np.mean, np.std])\n",
    "print (agg)"
   ]
  },
  {
   "cell_type": "code",
   "execution_count": 42,
   "metadata": {},
   "outputs": [
    {
     "name": "stdout",
     "output_type": "stream",
     "text": [
      "    student_id student_name  class_id gender  age  score class_name\n",
      "0            1         Alex         1      M   20     98     ClassA\n",
      "1            2          Amy         1      M   21     74     ClassA\n",
      "2            3        Allen         1      F   22     67     ClassA\n",
      "3           11         Emma         1      F   20     52     ClassA\n",
      "4           12        Marry         1      F   21     38     ClassA\n",
      "5           13        Allen         1      M   22     26     ClassA\n",
      "6            4        Alice         2      F   20     38     ClassB\n",
      "7            5       Ayoung         2      M   21     65     ClassB\n",
      "8            6        Billy         2      M   22     29     ClassB\n",
      "9           14         Jean         2      M   23     89     ClassB\n",
      "10          15         Rose         2      F   20     68     ClassB\n",
      "11          16        David         2      F   21     46     ClassB\n",
      "12          20       Andrew         2      F   22     87     ClassB\n",
      "13           7        Brian         3      F   23     32     ClassC\n",
      "14           8         Bran         3      F   20     34     ClassC\n",
      "15           9        Bryce         3      M   21     85     ClassC\n",
      "16          17          Tom         3      M   22     32     ClassC\n",
      "17          18         Jack         3      M   20     78     ClassC\n",
      "18          19       Daniel         3      F   21     79     ClassC\n"
     ]
    }
   ],
   "source": [
    "import pandas as pd\n",
    "left = pd.DataFrame({\n",
    "         'student_id':[1,2,3,4,5,6,7,8,9,10,11,12,13,14,15,16,17,18,19,20],\n",
    "         'student_name': ['Alex', 'Amy', 'Allen', 'Alice', 'Ayoung', 'Billy', 'Brian', 'Bran', 'Bryce', 'Betty', 'Emma', 'Marry', 'Allen', 'Jean', 'Rose', 'David', 'Tom', 'Jack', 'Daniel', 'Andrew'],\n",
    "         'class_id':[1,1,1,2,2,2,3,3,3,4,1,1,1,2,2,2,3,3,3,2], \n",
    "         'gender':['M', 'M', 'F', 'F', 'M', 'M', 'F', 'F', 'M', 'M', 'F', 'F', 'M', 'M', 'F', 'F', 'M', 'M', 'F', 'F'], \n",
    "         'age':[20,21,22,20,21,22,23,20,21,22,20,21,22,23,20,21,22,20,21,22], \n",
    "         'score':[98,74,67,38,65,29,32,34,85,64,52,38,26,89,68,46,32,78,79,87]})\n",
    "right = pd.DataFrame(\n",
    "         {'class_id':[1,2,3,5],\n",
    "         'class_name': ['ClassA', 'ClassB', 'ClassC', 'ClassE']})\n",
    "# 合并两个DataFrame\n",
    "data = pd.merge(left,right)\n",
    "print(data)"
   ]
  },
  {
   "cell_type": "code",
   "execution_count": 44,
   "metadata": {},
   "outputs": [
    {
     "name": "stdout",
     "output_type": "stream",
     "text": [
      "                       age      score  student_id\n",
      "class_id gender                                  \n",
      "1        F       21.000000  52.333333    8.666667\n",
      "         M       21.000000  66.000000    5.333333\n",
      "2        F       20.750000  59.750000   13.750000\n",
      "         M       22.000000  61.000000    8.333333\n",
      "3        F       21.333333  48.333333   11.333333\n",
      "         M       21.000000  65.000000   14.666667\n",
      "                     score\n",
      "class_id gender           \n",
      "1        F       52.333333\n",
      "         M       66.000000\n",
      "2        F       59.750000\n",
      "         M       61.000000\n",
      "3        F       48.333333\n",
      "         M       65.000000\n",
      "                score                  \n",
      "age                20    21    22    23\n",
      "class_id gender                        \n",
      "1        F       52.0  38.0  67.0   NaN\n",
      "         M       98.0  74.0  26.0   NaN\n",
      "2        F       53.0  46.0  87.0   NaN\n",
      "         M        NaN  65.0  29.0  89.0\n",
      "3        F       34.0  79.0   NaN  32.0\n",
      "         M       78.0  85.0  32.0   NaN\n",
      "                     score                             \n",
      "age                     20    21    22    23        All\n",
      "class_id gender                                        \n",
      "1        F       52.000000  38.0  67.0   NaN  52.333333\n",
      "         M       98.000000  74.0  26.0   NaN  66.000000\n",
      "2        F       53.000000  46.0  87.0   NaN  59.750000\n",
      "         M             NaN  65.0  29.0  89.0  61.000000\n",
      "3        F       34.000000  79.0   NaN  32.0  48.333333\n",
      "         M       78.000000  85.0  32.0   NaN  65.000000\n",
      "All              61.333333  64.5  48.2  60.5  58.789474\n",
      "                score                      \n",
      "age                20    21    22    23 All\n",
      "class_id gender                            \n",
      "1        F       52.0  38.0  67.0   NaN  67\n",
      "         M       98.0  74.0  26.0   NaN  98\n",
      "2        F       68.0  46.0  87.0   NaN  87\n",
      "         M        NaN  65.0  29.0  89.0  89\n",
      "3        F       34.0  79.0   NaN  32.0  79\n",
      "         M       78.0  85.0  32.0   NaN  85\n",
      "All              98.0  85.0  87.0  89.0  98\n"
     ]
    }
   ],
   "source": [
    "# 以class_id与gender做分组汇总数据，默认聚合统计所有列\n",
    "print(data.pivot_table(index=['class_id', 'gender']))\n",
    "\n",
    "# 以class_id与gender做分组汇总数据，聚合统计score列\n",
    "print(data.pivot_table(index=['class_id', 'gender'], values=['score']))\n",
    "\n",
    "# 以class_id与gender做分组汇总数据，聚合统计score列，针对age的每个值列级分组统计\n",
    "print(data.pivot_table(index=['class_id', 'gender'], values=['score'], \n",
    "                       columns=['age']))\n",
    "\n",
    "# 以class_id与gender做分组汇总数据，聚合统计score列，针对age的每个值列级分组统计，添加行、列小计\n",
    "print(data.pivot_table(index=['class_id', 'gender'], values=['score'], \n",
    "                       columns=['age'], margins=True))\n",
    "\n",
    "# 以class_id与gender做分组汇总数据，聚合统计score列，针对age的每个值列级分组统计，添加行、列小计\n",
    "print(data.pivot_table(index=['class_id', 'gender'], values=['score'], \n",
    "                       columns=['age'], margins=True, aggfunc='max'))"
   ]
  },
  {
   "cell_type": "code",
   "execution_count": 45,
   "metadata": {},
   "outputs": [
    {
     "name": "stdout",
     "output_type": "stream",
     "text": [
      "gender     F  M  All\n",
      "class_id            \n",
      "1          3  3    6\n",
      "2          4  3    7\n",
      "3          3  3    6\n",
      "All       10  9   19\n"
     ]
    }
   ],
   "source": [
    "# 按照class_id分组，针对不同的gender，统计数量\n",
    "print(pd.crosstab(data.class_id, data.gender, margins=True))"
   ]
  },
  {
   "cell_type": "code",
   "execution_count": 47,
   "metadata": {},
   "outputs": [
    {
     "data": {
      "image/png": "[encoded data removed]",
      "text/plain": [
       "<matplotlib.figure.Figure at 0x2167b6016a0>"
      ]
     },
     "metadata": {
      "needs_background": "light"
     },
     "output_type": "display_data"
    }
   ],
   "source": [
    "import pandas as pd\n",
    "import numpy as np\n",
    "import matplotlib.pyplot as mp \n",
    "\n",
    "df = pd.DataFrame(np.random.randn(10,4),index=pd.date_range('2018/12/18',\n",
    "   periods=10), columns=list('ABCD'))\n",
    "df.plot()\n",
    "mp.show()"
   ]
  },
  {
   "cell_type": "code",
   "execution_count": 48,
   "metadata": {},
   "outputs": [
    {
     "data": {
      "image/png": "[encoded data removed]",
      "text/plain": [
       "<matplotlib.figure.Figure at 0x2167b6187b8>"
      ]
     },
     "metadata": {
      "needs_background": "light"
     },
     "output_type": "display_data"
    }
   ],
   "source": [
    "df = pd.DataFrame(np.random.rand(10,4),columns=['a','b','c','d'])\n",
    "df.plot.bar()\n",
    "# df.plot.bar(stacked=True)\n",
    "mp.show()"
   ]
  },
  {
   "cell_type": "code",
   "execution_count": 49,
   "metadata": {},
   "outputs": [
    {
     "name": "stdout",
     "output_type": "stream",
     "text": [
      "            a         b         c\n",
      "0    0.025951  0.658981  1.401031\n",
      "1   -1.386707 -0.833065  1.593723\n",
      "2   -4.143196 -0.256189 -0.187356\n",
      "3   -1.474998 -0.172452  2.575352\n",
      "4   -0.596052  1.000531  2.938567\n",
      "5   -1.765392  0.297042 -0.428280\n",
      "6   -1.392595  1.049037  1.622284\n",
      "7   -0.510774 -1.011905  1.412166\n",
      "8   -1.391604  0.706998  0.651719\n",
      "9   -1.192005 -1.200947  0.915634\n",
      "10  -3.564813  0.629558  2.678472\n",
      "11  -0.201203 -0.557583 -0.748480\n",
      "12   0.783924  0.629075  0.828881\n",
      "13  -0.779328  0.192506  0.762596\n",
      "14  -2.087088  0.063270  1.410643\n",
      "15  -1.700328  1.723407  0.977682\n",
      "16  -2.506767 -0.527346  1.914321\n",
      "17  -0.920666 -2.040707 -2.914032\n",
      "18  -1.852026  0.134026  0.408161\n",
      "19  -3.183868  0.496869  0.229488\n",
      "20   0.891124  0.285507 -0.139718\n",
      "21  -1.926584 -0.716618  0.094992\n",
      "22  -2.758090  2.470353  0.414092\n",
      "23  -1.705603 -1.361406  0.347914\n",
      "24  -0.176019  1.668057  0.780317\n",
      "25   0.477692 -0.994095  0.574110\n",
      "26  -0.750799  0.830001  0.093836\n",
      "27  -1.453172 -2.443756 -1.461916\n",
      "28  -0.421529 -0.600715  1.059371\n",
      "29  -0.556578 -1.005134  1.087473\n",
      "..        ...       ...       ...\n",
      "970 -2.057109 -0.251144  2.552924\n",
      "971 -0.969853  0.336521  1.724347\n",
      "972 -2.248590 -0.590076  2.620000\n",
      "973 -0.987175  0.386113  1.680857\n",
      "974 -1.620350  1.312609  1.187834\n",
      "975 -0.418985 -0.730938  1.298439\n",
      "976 -0.834767  0.048435  0.473239\n",
      "977 -1.730452  0.281796  0.409761\n",
      "978 -1.439207 -0.855375  2.433609\n",
      "979 -1.729505 -0.660256 -0.568616\n",
      "980  0.150294  0.170085  1.360431\n",
      "981  0.162258  0.826424  1.961092\n",
      "982 -1.003882 -1.926602  1.203086\n",
      "983 -0.226496  0.070979 -0.305201\n",
      "984 -0.371464 -0.998806 -1.244448\n",
      "985 -2.724344 -1.360894  0.154034\n",
      "986 -0.552995  0.707486  0.718923\n",
      "987 -0.752155 -1.210420  1.390822\n",
      "988 -1.893185  1.933058  0.415640\n",
      "989 -1.341588  1.322565  0.006192\n",
      "990 -2.596720  0.712885  1.422910\n",
      "991  0.797964 -0.715757  1.082101\n",
      "992 -1.118978  0.784133  3.116229\n",
      "993 -1.926208  1.316943  1.870074\n",
      "994 -0.418883 -0.858667 -0.337445\n",
      "995 -1.999150  0.029968  1.484615\n",
      "996 -0.592918 -0.878593  2.238488\n",
      "997 -2.921070 -0.864631  2.860087\n",
      "998 -1.903435  0.992459 -0.219530\n",
      "999 -1.403983  0.969298  3.644293\n",
      "\n",
      "[1000 rows x 3 columns]\n"
     ]
    },
    {
     "data": {
      "image/png": "[encoded data removed]",
      "text/plain": [
       "<matplotlib.figure.Figure at 0x2167b75f208>"
      ]
     },
     "metadata": {
      "needs_background": "light"
     },
     "output_type": "display_data"
    }
   ],
   "source": [
    "df = pd.DataFrame()\n",
    "df['a'] = pd.Series(np.random.normal(0, 1, 1000)-1)\n",
    "df['b'] = pd.Series(np.random.normal(0, 1, 1000))\n",
    "df['c'] = pd.Series(np.random.normal(0, 1, 1000)+1)\n",
    "print(df)\n",
    "df.plot.hist(bins=20)\n",
    "mp.show()"
   ]
  },
  {
   "cell_type": "code",
   "execution_count": 50,
   "metadata": {},
   "outputs": [
    {
     "data": {
      "image/png": "[encoded data removed]",
      "text/plain": [
       "<matplotlib.figure.Figure at 0x2167b7e1978>"
      ]
     },
     "metadata": {
      "needs_background": "light"
     },
     "output_type": "display_data"
    }
   ],
   "source": [
    "df = pd.DataFrame(np.random.rand(50, 4), columns=['a', 'b', 'c', 'd'])\n",
    "df.plot.scatter(x='a', y='b')\n",
    "mp.show()"
   ]
  },
  {
   "cell_type": "code",
   "execution_count": 51,
   "metadata": {},
   "outputs": [
    {
     "data": {
      "image/png": "[encoded data removed]",
      "text/plain": [
       "<matplotlib.figure.Figure at 0x2167b9162b0>"
      ]
     },
     "metadata": {},
     "output_type": "display_data"
    }
   ],
   "source": [
    "df = pd.DataFrame(3 * np.random.rand(4), index=['a', 'b', 'c', 'd'], columns=['x'])\n",
    "df.plot.pie(subplots=True)\n",
    "mp.show()"
   ]
  },
  {
   "cell_type": "code",
   "execution_count": null,
   "metadata": {},
   "outputs": [],
   "source": []
  }
 ],
 "metadata": {
  "kernelspec": {
   "display_name": "Python 3",
   "language": "python",
   "name": "python3"
  },
  "language_info": {
   "codemirror_mode": {
    "name": "ipython",
    "version": 3
   },
   "file_extension": ".py",
   "mimetype": "text/x-python",
   "name": "python",
   "nbconvert_exporter": "python",
   "pygments_lexer": "ipython3",
   "version": "3.6.4"
  }
 },
 "nbformat": 4,
 "nbformat_minor": 2
}
